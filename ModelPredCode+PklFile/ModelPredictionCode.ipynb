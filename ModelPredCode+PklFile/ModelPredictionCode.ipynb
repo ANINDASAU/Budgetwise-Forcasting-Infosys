{
  "nbformat": 4,
  "nbformat_minor": 0,
  "metadata": {
    "colab": {
      "provenance": []
    },
    "kernelspec": {
      "name": "python3",
      "display_name": "Python 3"
    },
    "language_info": {
      "name": "python"
    }
  },
  "cells": [
    {
      "cell_type": "code",
      "execution_count": 1,
      "metadata": {
        "id": "6VeUkQfnt19X"
      },
      "outputs": [],
      "source": [
        "import joblib\n",
        "model_data = joblib.load(\"/content/rf_pipeline.pkl\")"
      ]
    },
    {
      "cell_type": "code",
      "source": [
        "#Extracting Components\n",
        "pipeline = model_data[\"pipeline\"]\n",
        "label_encoder = model_data[\"label_encoder\"]\n",
        "feature_cols = model_data[\"feature_cols\"]\n",
        "budget_col = model_data[\"budget_col\"]\n",
        "product_price_col = model_data[\"product_price_col\"]\n",
        "expense_cols = model_data[\"expense_cols\"]\n",
        "month_col = model_data[\"month_col\"]"
      ],
      "metadata": {
        "id": "zGazb5BTuJWM"
      },
      "execution_count": 2,
      "outputs": []
    },
    {
      "cell_type": "markdown",
      "source": [
        "Prediction"
      ],
      "metadata": {
        "id": "-snX0eDWuUb9"
      }
    },
    {
      "cell_type": "code",
      "source": [
        "import pandas as pd\n",
        "\n",
        "def predict_from_pkl(month, budget, expenses_dict, product_name, product_price, top_n_suggestions=5):\n",
        "    # Build input row\n",
        "    row = {}\n",
        "    row[budget_col] = budget\n",
        "    for c in expense_cols:\n",
        "        row[c] = float(expenses_dict.get(c, 0))\n",
        "\n",
        "    # Compute initial total\n",
        "    row[\"initial_total\"] = sum(float(expenses_dict.get(c, 0)) for c in expense_cols)\n",
        "\n",
        "    # Add product price + month\n",
        "    row[product_price_col] = product_price\n",
        "    row[month_col] = month\n",
        "\n",
        "    # Ensure correct feature order\n",
        "    input_df = pd.DataFrame([row], columns=feature_cols)\n",
        "\n",
        "    # Make prediction\n",
        "    pred_enc = pipeline.predict(input_df)[0]\n",
        "    pred_label = label_encoder.inverse_transform([pred_enc])[0]\n",
        "\n",
        "    # Balance calculation\n",
        "    balance = budget - row[\"initial_total\"]\n",
        "\n",
        "    # Suggestions if product price > balance\n",
        "    suggestions = []\n",
        "    if product_price > balance:\n",
        "        pred_label = \"No\"\n",
        "        cand = df[df[product_price_col] <= balance]\n",
        "        if not cand.empty:\n",
        "            suggestions = cand.sort_values(by=product_price_col, ascending=False).head(top_n_suggestions)\n",
        "\n",
        "    return {\n",
        "        \"initial_total\": row[\"initial_total\"],\n",
        "        \"balance\": balance,\n",
        "        \"prediction\": str(pred_label),\n",
        "        \"suggestions\": suggestions\n",
        "    }\n"
      ],
      "metadata": {
        "id": "Kn6_-xLfuR_B"
      },
      "execution_count": 3,
      "outputs": []
    },
    {
      "cell_type": "markdown",
      "source": [
        "User Input"
      ],
      "metadata": {
        "id": "zYI7o-RUua2R"
      }
    },
    {
      "cell_type": "code",
      "source": [
        "month = input(\"Enter Month (e.g., December): \")\n",
        "budget = float(input(\"Enter total budget: \"))\n",
        "\n",
        "expenses_dict = {}\n",
        "for col in expense_cols:\n",
        "    val = input(f\"Enter expense for {col} (leave blank for 0): \")\n",
        "    expenses_dict[col] = float(val) if val.strip() != \"\" else 0.0\n",
        "\n",
        "product_name = input(\"Enter product name: \")\n",
        "product_price = float(input(\"Enter product price: \"))\n",
        "\n",
        "result = predict_from_pkl(month, budget, expenses_dict, product_name, product_price)\n",
        "\n",
        "print(\"\\n===== RESULT =====\")\n",
        "print(f\"Initial Expense: {result['initial_total']}\")\n",
        "print(f\"Remaining Balance: {result['balance']}\")\n",
        "print(f\"Prediction (Can Buy?): {result['prediction']}\")\n",
        "\n",
        "if result[\"prediction\"] == \"No\":\n",
        "    print(\"\\nSuggested Products within Balance:\")\n",
        "    if not result[\"suggestions\"].empty:\n",
        "        print(result[\"suggestions\"][[product_price_col, month_col]].to_string(index=False))\n",
        "    else:\n",
        "        print(\"No products found within balance.\")\n"
      ],
      "metadata": {
        "colab": {
          "base_uri": "https://localhost:8080/"
        },
        "id": "DzPU6n3DuY1Q",
        "outputId": "51f8173e-c270-46d8-91b4-93708525affa"
      },
      "execution_count": 4,
      "outputs": [
        {
          "output_type": "stream",
          "name": "stdout",
          "text": [
            "Enter Month (e.g., December): February\n",
            "Enter total budget: 21000\n",
            "Enter expense for Grocery_Ini1 (leave blank for 0): 2500\n",
            "Enter expense for Rent_Ini2 (leave blank for 0): 2350\n",
            "Enter expense for Transport_Ini3 (leave blank for 0): 1150\n",
            "Enter product name: Dress\n",
            "Enter product price: 6000\n",
            "\n",
            "===== RESULT =====\n",
            "Initial Expense: 6000.0\n",
            "Remaining Balance: 15000.0\n",
            "Prediction (Can Buy?): Yes, But check 'Have Balance'.\n"
          ]
        }
      ]
    },
    {
      "cell_type": "code",
      "source": [],
      "metadata": {
        "id": "k7LNShmKueg0"
      },
      "execution_count": null,
      "outputs": []
    }
  ]
}
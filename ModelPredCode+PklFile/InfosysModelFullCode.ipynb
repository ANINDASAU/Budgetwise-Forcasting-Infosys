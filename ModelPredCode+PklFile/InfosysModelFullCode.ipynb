{
  "nbformat": 4,
  "nbformat_minor": 0,
  "metadata": {
    "colab": {
      "provenance": []
    },
    "kernelspec": {
      "name": "python3",
      "display_name": "Python 3"
    },
    "language_info": {
      "name": "python"
    }
  },
  "cells": [
    {
      "cell_type": "code",
      "execution_count": 53,
      "metadata": {
        "colab": {
          "base_uri": "https://localhost:8080/"
        },
        "id": "EVXg45fXaSCi",
        "outputId": "ac161219-e107-4ac8-f643-caa88bad71bc"
      },
      "outputs": [
        {
          "output_type": "stream",
          "name": "stdout",
          "text": [
            "Requirement already satisfied: scikit-learn in /usr/local/lib/python3.12/dist-packages (1.6.1)\n",
            "Requirement already satisfied: pandas in /usr/local/lib/python3.12/dist-packages (2.2.2)\n",
            "Requirement already satisfied: joblib in /usr/local/lib/python3.12/dist-packages (1.5.2)\n",
            "Requirement already satisfied: numpy>=1.19.5 in /usr/local/lib/python3.12/dist-packages (from scikit-learn) (2.0.2)\n",
            "Requirement already satisfied: scipy>=1.6.0 in /usr/local/lib/python3.12/dist-packages (from scikit-learn) (1.16.1)\n",
            "Requirement already satisfied: threadpoolctl>=3.1.0 in /usr/local/lib/python3.12/dist-packages (from scikit-learn) (3.6.0)\n",
            "Requirement already satisfied: python-dateutil>=2.8.2 in /usr/local/lib/python3.12/dist-packages (from pandas) (2.9.0.post0)\n",
            "Requirement already satisfied: pytz>=2020.1 in /usr/local/lib/python3.12/dist-packages (from pandas) (2025.2)\n",
            "Requirement already satisfied: tzdata>=2022.7 in /usr/local/lib/python3.12/dist-packages (from pandas) (2025.2)\n",
            "Requirement already satisfied: six>=1.5 in /usr/local/lib/python3.12/dist-packages (from python-dateutil>=2.8.2->pandas) (1.17.0)\n"
          ]
        }
      ],
      "source": [
        "!pip install scikit-learn pandas joblib"
      ]
    },
    {
      "cell_type": "markdown",
      "source": [
        "Import Libraries"
      ],
      "metadata": {
        "id": "CThhvunWbB_E"
      }
    },
    {
      "cell_type": "code",
      "source": [
        "import pandas as pd\n",
        "import numpy as np\n",
        "from sklearn.model_selection import train_test_split\n",
        "from sklearn.preprocessing import OneHotEncoder, StandardScaler, LabelEncoder\n",
        "from sklearn.compose import ColumnTransformer\n",
        "from sklearn.pipeline import Pipeline\n",
        "from sklearn.ensemble import RandomForestClassifier\n",
        "import joblib"
      ],
      "metadata": {
        "id": "a3FdoVe5a_Yh"
      },
      "execution_count": 54,
      "outputs": []
    },
    {
      "cell_type": "markdown",
      "source": [
        "Load Dataset"
      ],
      "metadata": {
        "id": "dz25lM6UbIBG"
      }
    },
    {
      "cell_type": "code",
      "source": [
        "df = pd.read_csv(\"DatasetFinalCSV.csv\")\n",
        "print(\"Columns in dataset:\", df.columns.tolist())\n",
        "df.head()"
      ],
      "metadata": {
        "colab": {
          "base_uri": "https://localhost:8080/",
          "height": 330
        },
        "id": "kTlnfgaPbLhV",
        "outputId": "f1b0dbb3-bda1-49d9-e785-e3615cf17367"
      },
      "execution_count": 55,
      "outputs": [
        {
          "output_type": "stream",
          "name": "stdout",
          "text": [
            "Columns in dataset: ['User', 'Month', 'Monthly_Budget', 'Grocery_Ini1', 'Rent_Ini2', 'Transport_Ini3', 'InitialExpense', 'Have_Balance', 'OtherExpense_name', 'AmountOfProduct', 'Remaining_Balance', 'Purchase_Allowed']\n"
          ]
        },
        {
          "output_type": "execute_result",
          "data": {
            "text/plain": [
              "    User     Month  Monthly_Budget  Grocery_Ini1  Rent_Ini2  Transport_Ini3  \\\n",
              "0  User1   January           10000          2000       2500            1000   \n",
              "1  User1  February           15000          2500       2500            1000   \n",
              "2  User1     March           13000          2500       2500            1200   \n",
              "3  User1     April           15666          2100       2500            1100   \n",
              "4  User1       May           17166          2350       2500            1200   \n",
              "\n",
              "   InitialExpense  Have_Balance OtherExpense_name  AmountOfProduct  \\\n",
              "0            5500          4500             Shoes             3000   \n",
              "1            6000          9000            Laptop            15000   \n",
              "2            6200          6800             Watch             7000   \n",
              "3            5700          9966             Dress             2000   \n",
              "4            6050         11116          Vacation             5000   \n",
              "\n",
              "   Remaining_Balance                 Purchase_Allowed  \n",
              "0               1500   Yes, But check 'Have Balance'.  \n",
              "1              -6000  No,You have not enough Balance.  \n",
              "2               -200  No,You have not enough Balance.  \n",
              "3               7966   Yes, But check 'Have Balance'.  \n",
              "4               6116   Yes, But check 'Have Balance'.  "
            ],
            "text/html": [
              "\n",
              "  <div id=\"df-018c3d92-9652-48a1-9bca-773bc481274b\" class=\"colab-df-container\">\n",
              "    <div>\n",
              "<style scoped>\n",
              "    .dataframe tbody tr th:only-of-type {\n",
              "        vertical-align: middle;\n",
              "    }\n",
              "\n",
              "    .dataframe tbody tr th {\n",
              "        vertical-align: top;\n",
              "    }\n",
              "\n",
              "    .dataframe thead th {\n",
              "        text-align: right;\n",
              "    }\n",
              "</style>\n",
              "<table border=\"1\" class=\"dataframe\">\n",
              "  <thead>\n",
              "    <tr style=\"text-align: right;\">\n",
              "      <th></th>\n",
              "      <th>User</th>\n",
              "      <th>Month</th>\n",
              "      <th>Monthly_Budget</th>\n",
              "      <th>Grocery_Ini1</th>\n",
              "      <th>Rent_Ini2</th>\n",
              "      <th>Transport_Ini3</th>\n",
              "      <th>InitialExpense</th>\n",
              "      <th>Have_Balance</th>\n",
              "      <th>OtherExpense_name</th>\n",
              "      <th>AmountOfProduct</th>\n",
              "      <th>Remaining_Balance</th>\n",
              "      <th>Purchase_Allowed</th>\n",
              "    </tr>\n",
              "  </thead>\n",
              "  <tbody>\n",
              "    <tr>\n",
              "      <th>0</th>\n",
              "      <td>User1</td>\n",
              "      <td>January</td>\n",
              "      <td>10000</td>\n",
              "      <td>2000</td>\n",
              "      <td>2500</td>\n",
              "      <td>1000</td>\n",
              "      <td>5500</td>\n",
              "      <td>4500</td>\n",
              "      <td>Shoes</td>\n",
              "      <td>3000</td>\n",
              "      <td>1500</td>\n",
              "      <td>Yes, But check 'Have Balance'.</td>\n",
              "    </tr>\n",
              "    <tr>\n",
              "      <th>1</th>\n",
              "      <td>User1</td>\n",
              "      <td>February</td>\n",
              "      <td>15000</td>\n",
              "      <td>2500</td>\n",
              "      <td>2500</td>\n",
              "      <td>1000</td>\n",
              "      <td>6000</td>\n",
              "      <td>9000</td>\n",
              "      <td>Laptop</td>\n",
              "      <td>15000</td>\n",
              "      <td>-6000</td>\n",
              "      <td>No,You have not enough Balance.</td>\n",
              "    </tr>\n",
              "    <tr>\n",
              "      <th>2</th>\n",
              "      <td>User1</td>\n",
              "      <td>March</td>\n",
              "      <td>13000</td>\n",
              "      <td>2500</td>\n",
              "      <td>2500</td>\n",
              "      <td>1200</td>\n",
              "      <td>6200</td>\n",
              "      <td>6800</td>\n",
              "      <td>Watch</td>\n",
              "      <td>7000</td>\n",
              "      <td>-200</td>\n",
              "      <td>No,You have not enough Balance.</td>\n",
              "    </tr>\n",
              "    <tr>\n",
              "      <th>3</th>\n",
              "      <td>User1</td>\n",
              "      <td>April</td>\n",
              "      <td>15666</td>\n",
              "      <td>2100</td>\n",
              "      <td>2500</td>\n",
              "      <td>1100</td>\n",
              "      <td>5700</td>\n",
              "      <td>9966</td>\n",
              "      <td>Dress</td>\n",
              "      <td>2000</td>\n",
              "      <td>7966</td>\n",
              "      <td>Yes, But check 'Have Balance'.</td>\n",
              "    </tr>\n",
              "    <tr>\n",
              "      <th>4</th>\n",
              "      <td>User1</td>\n",
              "      <td>May</td>\n",
              "      <td>17166</td>\n",
              "      <td>2350</td>\n",
              "      <td>2500</td>\n",
              "      <td>1200</td>\n",
              "      <td>6050</td>\n",
              "      <td>11116</td>\n",
              "      <td>Vacation</td>\n",
              "      <td>5000</td>\n",
              "      <td>6116</td>\n",
              "      <td>Yes, But check 'Have Balance'.</td>\n",
              "    </tr>\n",
              "  </tbody>\n",
              "</table>\n",
              "</div>\n",
              "    <div class=\"colab-df-buttons\">\n",
              "\n",
              "  <div class=\"colab-df-container\">\n",
              "    <button class=\"colab-df-convert\" onclick=\"convertToInteractive('df-018c3d92-9652-48a1-9bca-773bc481274b')\"\n",
              "            title=\"Convert this dataframe to an interactive table.\"\n",
              "            style=\"display:none;\">\n",
              "\n",
              "  <svg xmlns=\"http://www.w3.org/2000/svg\" height=\"24px\" viewBox=\"0 -960 960 960\">\n",
              "    <path d=\"M120-120v-720h720v720H120Zm60-500h600v-160H180v160Zm220 220h160v-160H400v160Zm0 220h160v-160H400v160ZM180-400h160v-160H180v160Zm440 0h160v-160H620v160ZM180-180h160v-160H180v160Zm440 0h160v-160H620v160Z\"/>\n",
              "  </svg>\n",
              "    </button>\n",
              "\n",
              "  <style>\n",
              "    .colab-df-container {\n",
              "      display:flex;\n",
              "      gap: 12px;\n",
              "    }\n",
              "\n",
              "    .colab-df-convert {\n",
              "      background-color: #E8F0FE;\n",
              "      border: none;\n",
              "      border-radius: 50%;\n",
              "      cursor: pointer;\n",
              "      display: none;\n",
              "      fill: #1967D2;\n",
              "      height: 32px;\n",
              "      padding: 0 0 0 0;\n",
              "      width: 32px;\n",
              "    }\n",
              "\n",
              "    .colab-df-convert:hover {\n",
              "      background-color: #E2EBFA;\n",
              "      box-shadow: 0px 1px 2px rgba(60, 64, 67, 0.3), 0px 1px 3px 1px rgba(60, 64, 67, 0.15);\n",
              "      fill: #174EA6;\n",
              "    }\n",
              "\n",
              "    .colab-df-buttons div {\n",
              "      margin-bottom: 4px;\n",
              "    }\n",
              "\n",
              "    [theme=dark] .colab-df-convert {\n",
              "      background-color: #3B4455;\n",
              "      fill: #D2E3FC;\n",
              "    }\n",
              "\n",
              "    [theme=dark] .colab-df-convert:hover {\n",
              "      background-color: #434B5C;\n",
              "      box-shadow: 0px 1px 3px 1px rgba(0, 0, 0, 0.15);\n",
              "      filter: drop-shadow(0px 1px 2px rgba(0, 0, 0, 0.3));\n",
              "      fill: #FFFFFF;\n",
              "    }\n",
              "  </style>\n",
              "\n",
              "    <script>\n",
              "      const buttonEl =\n",
              "        document.querySelector('#df-018c3d92-9652-48a1-9bca-773bc481274b button.colab-df-convert');\n",
              "      buttonEl.style.display =\n",
              "        google.colab.kernel.accessAllowed ? 'block' : 'none';\n",
              "\n",
              "      async function convertToInteractive(key) {\n",
              "        const element = document.querySelector('#df-018c3d92-9652-48a1-9bca-773bc481274b');\n",
              "        const dataTable =\n",
              "          await google.colab.kernel.invokeFunction('convertToInteractive',\n",
              "                                                    [key], {});\n",
              "        if (!dataTable) return;\n",
              "\n",
              "        const docLinkHtml = 'Like what you see? Visit the ' +\n",
              "          '<a target=\"_blank\" href=https://colab.research.google.com/notebooks/data_table.ipynb>data table notebook</a>'\n",
              "          + ' to learn more about interactive tables.';\n",
              "        element.innerHTML = '';\n",
              "        dataTable['output_type'] = 'display_data';\n",
              "        await google.colab.output.renderOutput(dataTable, element);\n",
              "        const docLink = document.createElement('div');\n",
              "        docLink.innerHTML = docLinkHtml;\n",
              "        element.appendChild(docLink);\n",
              "      }\n",
              "    </script>\n",
              "  </div>\n",
              "\n",
              "\n",
              "    <div id=\"df-2c5ea763-071e-488a-afc5-cf72e466b09c\">\n",
              "      <button class=\"colab-df-quickchart\" onclick=\"quickchart('df-2c5ea763-071e-488a-afc5-cf72e466b09c')\"\n",
              "                title=\"Suggest charts\"\n",
              "                style=\"display:none;\">\n",
              "\n",
              "<svg xmlns=\"http://www.w3.org/2000/svg\" height=\"24px\"viewBox=\"0 0 24 24\"\n",
              "     width=\"24px\">\n",
              "    <g>\n",
              "        <path d=\"M19 3H5c-1.1 0-2 .9-2 2v14c0 1.1.9 2 2 2h14c1.1 0 2-.9 2-2V5c0-1.1-.9-2-2-2zM9 17H7v-7h2v7zm4 0h-2V7h2v10zm4 0h-2v-4h2v4z\"/>\n",
              "    </g>\n",
              "</svg>\n",
              "      </button>\n",
              "\n",
              "<style>\n",
              "  .colab-df-quickchart {\n",
              "      --bg-color: #E8F0FE;\n",
              "      --fill-color: #1967D2;\n",
              "      --hover-bg-color: #E2EBFA;\n",
              "      --hover-fill-color: #174EA6;\n",
              "      --disabled-fill-color: #AAA;\n",
              "      --disabled-bg-color: #DDD;\n",
              "  }\n",
              "\n",
              "  [theme=dark] .colab-df-quickchart {\n",
              "      --bg-color: #3B4455;\n",
              "      --fill-color: #D2E3FC;\n",
              "      --hover-bg-color: #434B5C;\n",
              "      --hover-fill-color: #FFFFFF;\n",
              "      --disabled-bg-color: #3B4455;\n",
              "      --disabled-fill-color: #666;\n",
              "  }\n",
              "\n",
              "  .colab-df-quickchart {\n",
              "    background-color: var(--bg-color);\n",
              "    border: none;\n",
              "    border-radius: 50%;\n",
              "    cursor: pointer;\n",
              "    display: none;\n",
              "    fill: var(--fill-color);\n",
              "    height: 32px;\n",
              "    padding: 0;\n",
              "    width: 32px;\n",
              "  }\n",
              "\n",
              "  .colab-df-quickchart:hover {\n",
              "    background-color: var(--hover-bg-color);\n",
              "    box-shadow: 0 1px 2px rgba(60, 64, 67, 0.3), 0 1px 3px 1px rgba(60, 64, 67, 0.15);\n",
              "    fill: var(--button-hover-fill-color);\n",
              "  }\n",
              "\n",
              "  .colab-df-quickchart-complete:disabled,\n",
              "  .colab-df-quickchart-complete:disabled:hover {\n",
              "    background-color: var(--disabled-bg-color);\n",
              "    fill: var(--disabled-fill-color);\n",
              "    box-shadow: none;\n",
              "  }\n",
              "\n",
              "  .colab-df-spinner {\n",
              "    border: 2px solid var(--fill-color);\n",
              "    border-color: transparent;\n",
              "    border-bottom-color: var(--fill-color);\n",
              "    animation:\n",
              "      spin 1s steps(1) infinite;\n",
              "  }\n",
              "\n",
              "  @keyframes spin {\n",
              "    0% {\n",
              "      border-color: transparent;\n",
              "      border-bottom-color: var(--fill-color);\n",
              "      border-left-color: var(--fill-color);\n",
              "    }\n",
              "    20% {\n",
              "      border-color: transparent;\n",
              "      border-left-color: var(--fill-color);\n",
              "      border-top-color: var(--fill-color);\n",
              "    }\n",
              "    30% {\n",
              "      border-color: transparent;\n",
              "      border-left-color: var(--fill-color);\n",
              "      border-top-color: var(--fill-color);\n",
              "      border-right-color: var(--fill-color);\n",
              "    }\n",
              "    40% {\n",
              "      border-color: transparent;\n",
              "      border-right-color: var(--fill-color);\n",
              "      border-top-color: var(--fill-color);\n",
              "    }\n",
              "    60% {\n",
              "      border-color: transparent;\n",
              "      border-right-color: var(--fill-color);\n",
              "    }\n",
              "    80% {\n",
              "      border-color: transparent;\n",
              "      border-right-color: var(--fill-color);\n",
              "      border-bottom-color: var(--fill-color);\n",
              "    }\n",
              "    90% {\n",
              "      border-color: transparent;\n",
              "      border-bottom-color: var(--fill-color);\n",
              "    }\n",
              "  }\n",
              "</style>\n",
              "\n",
              "      <script>\n",
              "        async function quickchart(key) {\n",
              "          const quickchartButtonEl =\n",
              "            document.querySelector('#' + key + ' button');\n",
              "          quickchartButtonEl.disabled = true;  // To prevent multiple clicks.\n",
              "          quickchartButtonEl.classList.add('colab-df-spinner');\n",
              "          try {\n",
              "            const charts = await google.colab.kernel.invokeFunction(\n",
              "                'suggestCharts', [key], {});\n",
              "          } catch (error) {\n",
              "            console.error('Error during call to suggestCharts:', error);\n",
              "          }\n",
              "          quickchartButtonEl.classList.remove('colab-df-spinner');\n",
              "          quickchartButtonEl.classList.add('colab-df-quickchart-complete');\n",
              "        }\n",
              "        (() => {\n",
              "          let quickchartButtonEl =\n",
              "            document.querySelector('#df-2c5ea763-071e-488a-afc5-cf72e466b09c button');\n",
              "          quickchartButtonEl.style.display =\n",
              "            google.colab.kernel.accessAllowed ? 'block' : 'none';\n",
              "        })();\n",
              "      </script>\n",
              "    </div>\n",
              "\n",
              "    </div>\n",
              "  </div>\n"
            ],
            "application/vnd.google.colaboratory.intrinsic+json": {
              "type": "dataframe",
              "variable_name": "df",
              "summary": "{\n  \"name\": \"df\",\n  \"rows\": 240,\n  \"fields\": [\n    {\n      \"column\": \"User\",\n      \"properties\": {\n        \"dtype\": \"category\",\n        \"num_unique_values\": 20,\n        \"samples\": [\n          \"User1\",\n          \"User18\",\n          \"User16\"\n        ],\n        \"semantic_type\": \"\",\n        \"description\": \"\"\n      }\n    },\n    {\n      \"column\": \"Month\",\n      \"properties\": {\n        \"dtype\": \"category\",\n        \"num_unique_values\": 12,\n        \"samples\": [\n          \"November\",\n          \"October\",\n          \"January\"\n        ],\n        \"semantic_type\": \"\",\n        \"description\": \"\"\n      }\n    },\n    {\n      \"column\": \"Monthly_Budget\",\n      \"properties\": {\n        \"dtype\": \"number\",\n        \"std\": 5649,\n        \"min\": 10000,\n        \"max\": 29708,\n        \"num_unique_values\": 178,\n        \"samples\": [\n          10391,\n          21411,\n          27100\n        ],\n        \"semantic_type\": \"\",\n        \"description\": \"\"\n      }\n    },\n    {\n      \"column\": \"Grocery_Ini1\",\n      \"properties\": {\n        \"dtype\": \"number\",\n        \"std\": 681,\n        \"min\": 1800,\n        \"max\": 4977,\n        \"num_unique_values\": 139,\n        \"samples\": [\n          2288,\n          2653,\n          3636\n        ],\n        \"semantic_type\": \"\",\n        \"description\": \"\"\n      }\n    },\n    {\n      \"column\": \"Rent_Ini2\",\n      \"properties\": {\n        \"dtype\": \"number\",\n        \"std\": 534,\n        \"min\": 1960,\n        \"max\": 4200,\n        \"num_unique_values\": 18,\n        \"samples\": [\n          2500,\n          2230,\n          2340\n        ],\n        \"semantic_type\": \"\",\n        \"description\": \"\"\n      }\n    },\n    {\n      \"column\": \"Transport_Ini3\",\n      \"properties\": {\n        \"dtype\": \"number\",\n        \"std\": 267,\n        \"min\": 598,\n        \"max\": 2585,\n        \"num_unique_values\": 106,\n        \"samples\": [\n          1109,\n          1650,\n          1300\n        ],\n        \"semantic_type\": \"\",\n        \"description\": \"\"\n      }\n    },\n    {\n      \"column\": \"InitialExpense\",\n      \"properties\": {\n        \"dtype\": \"number\",\n        \"std\": 1109,\n        \"min\": 4767,\n        \"max\": 10436,\n        \"num_unique_values\": 229,\n        \"samples\": [\n          5641,\n          5180,\n          6450\n        ],\n        \"semantic_type\": \"\",\n        \"description\": \"\"\n      }\n    },\n    {\n      \"column\": \"Have_Balance\",\n      \"properties\": {\n        \"dtype\": \"number\",\n        \"std\": 5566,\n        \"min\": 2550,\n        \"max\": 24168,\n        \"num_unique_values\": 239,\n        \"samples\": [\n          21462,\n          13956,\n          19846\n        ],\n        \"semantic_type\": \"\",\n        \"description\": \"\"\n      }\n    },\n    {\n      \"column\": \"OtherExpense_name\",\n      \"properties\": {\n        \"dtype\": \"category\",\n        \"num_unique_values\": 22,\n        \"samples\": [\n          \"Shoes\",\n          \"Refrigerator\",\n          \"Bag\"\n        ],\n        \"semantic_type\": \"\",\n        \"description\": \"\"\n      }\n    },\n    {\n      \"column\": \"AmountOfProduct\",\n      \"properties\": {\n        \"dtype\": \"number\",\n        \"std\": 7369,\n        \"min\": 699,\n        \"max\": 36580,\n        \"num_unique_values\": 144,\n        \"samples\": [\n          15600,\n          9000,\n          4210\n        ],\n        \"semantic_type\": \"\",\n        \"description\": \"\"\n      }\n    },\n    {\n      \"column\": \"Remaining_Balance\",\n      \"properties\": {\n        \"dtype\": \"number\",\n        \"std\": 8506,\n        \"min\": -23416,\n        \"max\": 22215,\n        \"num_unique_values\": 240,\n        \"samples\": [\n          17962,\n          1956,\n          19147\n        ],\n        \"semantic_type\": \"\",\n        \"description\": \"\"\n      }\n    },\n    {\n      \"column\": \"Purchase_Allowed\",\n      \"properties\": {\n        \"dtype\": \"category\",\n        \"num_unique_values\": 2,\n        \"samples\": [\n          \"No,You have not enough Balance.\",\n          \"Yes, But check 'Have Balance'.\"\n        ],\n        \"semantic_type\": \"\",\n        \"description\": \"\"\n      }\n    }\n  ]\n}"
            }
          },
          "metadata": {},
          "execution_count": 55
        }
      ]
    },
    {
      "cell_type": "markdown",
      "source": [
        "Column Identification"
      ],
      "metadata": {
        "id": "GMnPFSCHbSzd"
      }
    },
    {
      "cell_type": "code",
      "source": [
        "budget_col =\"Monthly_Budget\"\n",
        "product_price_col =\"AmountOfProduct\"\n",
        "month_col = \"Month\"\n",
        "target_col = df.columns[-1]"
      ],
      "metadata": {
        "id": "RvurJo0YbceY"
      },
      "execution_count": 56,
      "outputs": []
    },
    {
      "cell_type": "code",
      "source": [
        "ignore_cols = [budget_col, product_price_col, month_col, target_col]\n",
        "expense_cols = ['Grocery_Ini1', 'Rent_Ini2', 'Transport_Ini3']"
      ],
      "metadata": {
        "id": "nM6qkTYUcE6U"
      },
      "execution_count": 57,
      "outputs": []
    },
    {
      "cell_type": "code",
      "source": [
        "print(\"Budget column:\", budget_col)\n",
        "print(\"Product price column:\", product_price_col)\n",
        "print(\"Month column:\", month_col)\n",
        "print(\"Expense columns:\", expense_cols)\n",
        "print(\"Target column:\", target_col)"
      ],
      "metadata": {
        "colab": {
          "base_uri": "https://localhost:8080/"
        },
        "id": "XfpQFp9aceSk",
        "outputId": "670ff3cc-7001-4c83-d1b4-da68dbd01d60"
      },
      "execution_count": 58,
      "outputs": [
        {
          "output_type": "stream",
          "name": "stdout",
          "text": [
            "Budget column: Monthly_Budget\n",
            "Product price column: AmountOfProduct\n",
            "Month column: Month\n",
            "Expense columns: ['Grocery_Ini1', 'Rent_Ini2', 'Transport_Ini3']\n",
            "Target column: Purchase_Allowed\n"
          ]
        }
      ]
    },
    {
      "cell_type": "markdown",
      "source": [
        "Total Initial"
      ],
      "metadata": {
        "id": "oz_0UQzScnTD"
      }
    },
    {
      "cell_type": "code",
      "source": [
        "for c in expense_cols:\n",
        "    df[c] = pd.to_numeric(df[c].astype(str).str.replace(r'[^\\d.\\-]','',regex=True), errors='coerce').fillna(0)\n",
        "\n",
        "df['initial_total'] = df[expense_cols].sum(axis=1)\n"
      ],
      "metadata": {
        "id": "o8CoRCLnchVT"
      },
      "execution_count": 59,
      "outputs": []
    },
    {
      "cell_type": "code",
      "source": [
        "print(\"Final expense columns:\", expense_cols)\n",
        "df[['Monthly_Budget'] + expense_cols + ['initial_total']].head()"
      ],
      "metadata": {
        "colab": {
          "base_uri": "https://localhost:8080/",
          "height": 223
        },
        "id": "I89M-rJrc4Ia",
        "outputId": "07005700-a483-41fc-8544-33bf27fc55e5"
      },
      "execution_count": 60,
      "outputs": [
        {
          "output_type": "stream",
          "name": "stdout",
          "text": [
            "Final expense columns: ['Grocery_Ini1', 'Rent_Ini2', 'Transport_Ini3']\n"
          ]
        },
        {
          "output_type": "execute_result",
          "data": {
            "text/plain": [
              "   Monthly_Budget  Grocery_Ini1  Rent_Ini2  Transport_Ini3  initial_total\n",
              "0           10000          2000       2500            1000           5500\n",
              "1           15000          2500       2500            1000           6000\n",
              "2           13000          2500       2500            1200           6200\n",
              "3           15666          2100       2500            1100           5700\n",
              "4           17166          2350       2500            1200           6050"
            ],
            "text/html": [
              "\n",
              "  <div id=\"df-66ac5a87-917c-4c9f-b1ef-6f5b8f9ef35e\" class=\"colab-df-container\">\n",
              "    <div>\n",
              "<style scoped>\n",
              "    .dataframe tbody tr th:only-of-type {\n",
              "        vertical-align: middle;\n",
              "    }\n",
              "\n",
              "    .dataframe tbody tr th {\n",
              "        vertical-align: top;\n",
              "    }\n",
              "\n",
              "    .dataframe thead th {\n",
              "        text-align: right;\n",
              "    }\n",
              "</style>\n",
              "<table border=\"1\" class=\"dataframe\">\n",
              "  <thead>\n",
              "    <tr style=\"text-align: right;\">\n",
              "      <th></th>\n",
              "      <th>Monthly_Budget</th>\n",
              "      <th>Grocery_Ini1</th>\n",
              "      <th>Rent_Ini2</th>\n",
              "      <th>Transport_Ini3</th>\n",
              "      <th>initial_total</th>\n",
              "    </tr>\n",
              "  </thead>\n",
              "  <tbody>\n",
              "    <tr>\n",
              "      <th>0</th>\n",
              "      <td>10000</td>\n",
              "      <td>2000</td>\n",
              "      <td>2500</td>\n",
              "      <td>1000</td>\n",
              "      <td>5500</td>\n",
              "    </tr>\n",
              "    <tr>\n",
              "      <th>1</th>\n",
              "      <td>15000</td>\n",
              "      <td>2500</td>\n",
              "      <td>2500</td>\n",
              "      <td>1000</td>\n",
              "      <td>6000</td>\n",
              "    </tr>\n",
              "    <tr>\n",
              "      <th>2</th>\n",
              "      <td>13000</td>\n",
              "      <td>2500</td>\n",
              "      <td>2500</td>\n",
              "      <td>1200</td>\n",
              "      <td>6200</td>\n",
              "    </tr>\n",
              "    <tr>\n",
              "      <th>3</th>\n",
              "      <td>15666</td>\n",
              "      <td>2100</td>\n",
              "      <td>2500</td>\n",
              "      <td>1100</td>\n",
              "      <td>5700</td>\n",
              "    </tr>\n",
              "    <tr>\n",
              "      <th>4</th>\n",
              "      <td>17166</td>\n",
              "      <td>2350</td>\n",
              "      <td>2500</td>\n",
              "      <td>1200</td>\n",
              "      <td>6050</td>\n",
              "    </tr>\n",
              "  </tbody>\n",
              "</table>\n",
              "</div>\n",
              "    <div class=\"colab-df-buttons\">\n",
              "\n",
              "  <div class=\"colab-df-container\">\n",
              "    <button class=\"colab-df-convert\" onclick=\"convertToInteractive('df-66ac5a87-917c-4c9f-b1ef-6f5b8f9ef35e')\"\n",
              "            title=\"Convert this dataframe to an interactive table.\"\n",
              "            style=\"display:none;\">\n",
              "\n",
              "  <svg xmlns=\"http://www.w3.org/2000/svg\" height=\"24px\" viewBox=\"0 -960 960 960\">\n",
              "    <path d=\"M120-120v-720h720v720H120Zm60-500h600v-160H180v160Zm220 220h160v-160H400v160Zm0 220h160v-160H400v160ZM180-400h160v-160H180v160Zm440 0h160v-160H620v160ZM180-180h160v-160H180v160Zm440 0h160v-160H620v160Z\"/>\n",
              "  </svg>\n",
              "    </button>\n",
              "\n",
              "  <style>\n",
              "    .colab-df-container {\n",
              "      display:flex;\n",
              "      gap: 12px;\n",
              "    }\n",
              "\n",
              "    .colab-df-convert {\n",
              "      background-color: #E8F0FE;\n",
              "      border: none;\n",
              "      border-radius: 50%;\n",
              "      cursor: pointer;\n",
              "      display: none;\n",
              "      fill: #1967D2;\n",
              "      height: 32px;\n",
              "      padding: 0 0 0 0;\n",
              "      width: 32px;\n",
              "    }\n",
              "\n",
              "    .colab-df-convert:hover {\n",
              "      background-color: #E2EBFA;\n",
              "      box-shadow: 0px 1px 2px rgba(60, 64, 67, 0.3), 0px 1px 3px 1px rgba(60, 64, 67, 0.15);\n",
              "      fill: #174EA6;\n",
              "    }\n",
              "\n",
              "    .colab-df-buttons div {\n",
              "      margin-bottom: 4px;\n",
              "    }\n",
              "\n",
              "    [theme=dark] .colab-df-convert {\n",
              "      background-color: #3B4455;\n",
              "      fill: #D2E3FC;\n",
              "    }\n",
              "\n",
              "    [theme=dark] .colab-df-convert:hover {\n",
              "      background-color: #434B5C;\n",
              "      box-shadow: 0px 1px 3px 1px rgba(0, 0, 0, 0.15);\n",
              "      filter: drop-shadow(0px 1px 2px rgba(0, 0, 0, 0.3));\n",
              "      fill: #FFFFFF;\n",
              "    }\n",
              "  </style>\n",
              "\n",
              "    <script>\n",
              "      const buttonEl =\n",
              "        document.querySelector('#df-66ac5a87-917c-4c9f-b1ef-6f5b8f9ef35e button.colab-df-convert');\n",
              "      buttonEl.style.display =\n",
              "        google.colab.kernel.accessAllowed ? 'block' : 'none';\n",
              "\n",
              "      async function convertToInteractive(key) {\n",
              "        const element = document.querySelector('#df-66ac5a87-917c-4c9f-b1ef-6f5b8f9ef35e');\n",
              "        const dataTable =\n",
              "          await google.colab.kernel.invokeFunction('convertToInteractive',\n",
              "                                                    [key], {});\n",
              "        if (!dataTable) return;\n",
              "\n",
              "        const docLinkHtml = 'Like what you see? Visit the ' +\n",
              "          '<a target=\"_blank\" href=https://colab.research.google.com/notebooks/data_table.ipynb>data table notebook</a>'\n",
              "          + ' to learn more about interactive tables.';\n",
              "        element.innerHTML = '';\n",
              "        dataTable['output_type'] = 'display_data';\n",
              "        await google.colab.output.renderOutput(dataTable, element);\n",
              "        const docLink = document.createElement('div');\n",
              "        docLink.innerHTML = docLinkHtml;\n",
              "        element.appendChild(docLink);\n",
              "      }\n",
              "    </script>\n",
              "  </div>\n",
              "\n",
              "\n",
              "    <div id=\"df-fa1f4c84-5b82-4697-ad5f-684bda1b50a7\">\n",
              "      <button class=\"colab-df-quickchart\" onclick=\"quickchart('df-fa1f4c84-5b82-4697-ad5f-684bda1b50a7')\"\n",
              "                title=\"Suggest charts\"\n",
              "                style=\"display:none;\">\n",
              "\n",
              "<svg xmlns=\"http://www.w3.org/2000/svg\" height=\"24px\"viewBox=\"0 0 24 24\"\n",
              "     width=\"24px\">\n",
              "    <g>\n",
              "        <path d=\"M19 3H5c-1.1 0-2 .9-2 2v14c0 1.1.9 2 2 2h14c1.1 0 2-.9 2-2V5c0-1.1-.9-2-2-2zM9 17H7v-7h2v7zm4 0h-2V7h2v10zm4 0h-2v-4h2v4z\"/>\n",
              "    </g>\n",
              "</svg>\n",
              "      </button>\n",
              "\n",
              "<style>\n",
              "  .colab-df-quickchart {\n",
              "      --bg-color: #E8F0FE;\n",
              "      --fill-color: #1967D2;\n",
              "      --hover-bg-color: #E2EBFA;\n",
              "      --hover-fill-color: #174EA6;\n",
              "      --disabled-fill-color: #AAA;\n",
              "      --disabled-bg-color: #DDD;\n",
              "  }\n",
              "\n",
              "  [theme=dark] .colab-df-quickchart {\n",
              "      --bg-color: #3B4455;\n",
              "      --fill-color: #D2E3FC;\n",
              "      --hover-bg-color: #434B5C;\n",
              "      --hover-fill-color: #FFFFFF;\n",
              "      --disabled-bg-color: #3B4455;\n",
              "      --disabled-fill-color: #666;\n",
              "  }\n",
              "\n",
              "  .colab-df-quickchart {\n",
              "    background-color: var(--bg-color);\n",
              "    border: none;\n",
              "    border-radius: 50%;\n",
              "    cursor: pointer;\n",
              "    display: none;\n",
              "    fill: var(--fill-color);\n",
              "    height: 32px;\n",
              "    padding: 0;\n",
              "    width: 32px;\n",
              "  }\n",
              "\n",
              "  .colab-df-quickchart:hover {\n",
              "    background-color: var(--hover-bg-color);\n",
              "    box-shadow: 0 1px 2px rgba(60, 64, 67, 0.3), 0 1px 3px 1px rgba(60, 64, 67, 0.15);\n",
              "    fill: var(--button-hover-fill-color);\n",
              "  }\n",
              "\n",
              "  .colab-df-quickchart-complete:disabled,\n",
              "  .colab-df-quickchart-complete:disabled:hover {\n",
              "    background-color: var(--disabled-bg-color);\n",
              "    fill: var(--disabled-fill-color);\n",
              "    box-shadow: none;\n",
              "  }\n",
              "\n",
              "  .colab-df-spinner {\n",
              "    border: 2px solid var(--fill-color);\n",
              "    border-color: transparent;\n",
              "    border-bottom-color: var(--fill-color);\n",
              "    animation:\n",
              "      spin 1s steps(1) infinite;\n",
              "  }\n",
              "\n",
              "  @keyframes spin {\n",
              "    0% {\n",
              "      border-color: transparent;\n",
              "      border-bottom-color: var(--fill-color);\n",
              "      border-left-color: var(--fill-color);\n",
              "    }\n",
              "    20% {\n",
              "      border-color: transparent;\n",
              "      border-left-color: var(--fill-color);\n",
              "      border-top-color: var(--fill-color);\n",
              "    }\n",
              "    30% {\n",
              "      border-color: transparent;\n",
              "      border-left-color: var(--fill-color);\n",
              "      border-top-color: var(--fill-color);\n",
              "      border-right-color: var(--fill-color);\n",
              "    }\n",
              "    40% {\n",
              "      border-color: transparent;\n",
              "      border-right-color: var(--fill-color);\n",
              "      border-top-color: var(--fill-color);\n",
              "    }\n",
              "    60% {\n",
              "      border-color: transparent;\n",
              "      border-right-color: var(--fill-color);\n",
              "    }\n",
              "    80% {\n",
              "      border-color: transparent;\n",
              "      border-right-color: var(--fill-color);\n",
              "      border-bottom-color: var(--fill-color);\n",
              "    }\n",
              "    90% {\n",
              "      border-color: transparent;\n",
              "      border-bottom-color: var(--fill-color);\n",
              "    }\n",
              "  }\n",
              "</style>\n",
              "\n",
              "      <script>\n",
              "        async function quickchart(key) {\n",
              "          const quickchartButtonEl =\n",
              "            document.querySelector('#' + key + ' button');\n",
              "          quickchartButtonEl.disabled = true;  // To prevent multiple clicks.\n",
              "          quickchartButtonEl.classList.add('colab-df-spinner');\n",
              "          try {\n",
              "            const charts = await google.colab.kernel.invokeFunction(\n",
              "                'suggestCharts', [key], {});\n",
              "          } catch (error) {\n",
              "            console.error('Error during call to suggestCharts:', error);\n",
              "          }\n",
              "          quickchartButtonEl.classList.remove('colab-df-spinner');\n",
              "          quickchartButtonEl.classList.add('colab-df-quickchart-complete');\n",
              "        }\n",
              "        (() => {\n",
              "          let quickchartButtonEl =\n",
              "            document.querySelector('#df-fa1f4c84-5b82-4697-ad5f-684bda1b50a7 button');\n",
              "          quickchartButtonEl.style.display =\n",
              "            google.colab.kernel.accessAllowed ? 'block' : 'none';\n",
              "        })();\n",
              "      </script>\n",
              "    </div>\n",
              "\n",
              "    </div>\n",
              "  </div>\n"
            ],
            "application/vnd.google.colaboratory.intrinsic+json": {
              "type": "dataframe",
              "summary": "{\n  \"name\": \"df[['Monthly_Budget'] + expense_cols + ['initial_total']]\",\n  \"rows\": 5,\n  \"fields\": [\n    {\n      \"column\": \"Monthly_Budget\",\n      \"properties\": {\n        \"dtype\": \"number\",\n        \"std\": 2768,\n        \"min\": 10000,\n        \"max\": 17166,\n        \"num_unique_values\": 5,\n        \"samples\": [\n          15000,\n          17166,\n          13000\n        ],\n        \"semantic_type\": \"\",\n        \"description\": \"\"\n      }\n    },\n    {\n      \"column\": \"Grocery_Ini1\",\n      \"properties\": {\n        \"dtype\": \"number\",\n        \"std\": 230,\n        \"min\": 2000,\n        \"max\": 2500,\n        \"num_unique_values\": 4,\n        \"samples\": [\n          2500,\n          2350,\n          2000\n        ],\n        \"semantic_type\": \"\",\n        \"description\": \"\"\n      }\n    },\n    {\n      \"column\": \"Rent_Ini2\",\n      \"properties\": {\n        \"dtype\": \"number\",\n        \"std\": 0,\n        \"min\": 2500,\n        \"max\": 2500,\n        \"num_unique_values\": 1,\n        \"samples\": [\n          2500\n        ],\n        \"semantic_type\": \"\",\n        \"description\": \"\"\n      }\n    },\n    {\n      \"column\": \"Transport_Ini3\",\n      \"properties\": {\n        \"dtype\": \"number\",\n        \"std\": 100,\n        \"min\": 1000,\n        \"max\": 1200,\n        \"num_unique_values\": 3,\n        \"samples\": [\n          1000\n        ],\n        \"semantic_type\": \"\",\n        \"description\": \"\"\n      }\n    },\n    {\n      \"column\": \"initial_total\",\n      \"properties\": {\n        \"dtype\": \"number\",\n        \"std\": 283,\n        \"min\": 5500,\n        \"max\": 6200,\n        \"num_unique_values\": 5,\n        \"samples\": [\n          6000\n        ],\n        \"semantic_type\": \"\",\n        \"description\": \"\"\n      }\n    }\n  ]\n}"
            }
          },
          "metadata": {},
          "execution_count": 60
        }
      ]
    },
    {
      "cell_type": "markdown",
      "source": [
        "Prepare Features and Target"
      ],
      "metadata": {
        "id": "4fsYn0OoeIIs"
      }
    },
    {
      "cell_type": "code",
      "source": [
        "X = df[[budget_col] + expense_cols + [product_price_col, month_col, \"initial_total\"]]\n",
        "y = df[target_col]"
      ],
      "metadata": {
        "id": "DnCFdcj9d9DV"
      },
      "execution_count": 61,
      "outputs": []
    },
    {
      "cell_type": "code",
      "source": [
        "#encoding Target labels with 0/1\n",
        "label_encoder = LabelEncoder()\n",
        "y_enc = label_encoder.fit_transform(y)"
      ],
      "metadata": {
        "id": "HQNpR8FweN_B"
      },
      "execution_count": 62,
      "outputs": []
    },
    {
      "cell_type": "code",
      "source": [
        "numeric_features = [budget_col, product_price_col, \"initial_total\"] + expense_cols\n",
        "categorical_features = [month_col]\n",
        "\n",
        "preprocessor = ColumnTransformer(\n",
        "    transformers=[\n",
        "        (\"num\", StandardScaler(), numeric_features),\n",
        "        (\"cat\", OneHotEncoder(handle_unknown=\"ignore\"), categorical_features)\n",
        "    ]\n",
        ")"
      ],
      "metadata": {
        "id": "v_9MJvG_eW-Q"
      },
      "execution_count": 63,
      "outputs": []
    },
    {
      "cell_type": "markdown",
      "source": [
        "Model Building"
      ],
      "metadata": {
        "id": "4lHDgrUXegi0"
      }
    },
    {
      "cell_type": "code",
      "source": [
        "pipeline = Pipeline(steps=[\n",
        "    (\"preprocessor\", preprocessor),\n",
        "    (\"clf\", RandomForestClassifier(n_estimators=200, random_state=42))\n",
        "])\n",
        "\n",
        "X_train, X_test, y_train, y_test = train_test_split(X, y_enc, test_size=0.2, random_state=42)\n",
        "pipeline.fit(X_train, y_train)\n",
        "\n",
        "print(\"Training complete\")\n",
        "print(\"Train Accuracy:\", pipeline.score(X_train, y_train))\n",
        "print(\"Test Accuracy:\", pipeline.score(X_test, y_test))"
      ],
      "metadata": {
        "colab": {
          "base_uri": "https://localhost:8080/"
        },
        "id": "sVjY0vfsedaP",
        "outputId": "3ff2ebfb-9f2b-4646-f027-fbb45a032bf6"
      },
      "execution_count": 64,
      "outputs": [
        {
          "output_type": "stream",
          "name": "stdout",
          "text": [
            "Training complete\n",
            "Train Accuracy: 1.0\n",
            "Test Accuracy: 0.9166666666666666\n"
          ]
        }
      ]
    },
    {
      "cell_type": "code",
      "source": [
        "#Model Saving\n",
        "joblib.dump({\n",
        "    \"pipeline\": pipeline,\n",
        "    \"label_encoder\": label_encoder,\n",
        "    \"feature_cols\": X.columns.tolist(),\n",
        "    \"budget_col\": budget_col,\n",
        "    \"product_price_col\": product_price_col,\n",
        "    \"expense_cols\": expense_cols,\n",
        "    \"month_col\": month_col\n",
        "}, \"rf_pipeline.pkl\")\n",
        "\n",
        "print(\"Model saved as rf_pipeline.pkl\")"
      ],
      "metadata": {
        "colab": {
          "base_uri": "https://localhost:8080/"
        },
        "id": "T_VLntx3elyZ",
        "outputId": "ece5e0ec-8d90-46b1-be28-4296a0643ff9"
      },
      "execution_count": 65,
      "outputs": [
        {
          "output_type": "stream",
          "name": "stdout",
          "text": [
            "Model saved as rf_pipeline.pkl\n"
          ]
        }
      ]
    },
    {
      "cell_type": "markdown",
      "source": [
        "Prediction"
      ],
      "metadata": {
        "id": "DpN_hblZexqA"
      }
    },
    {
      "cell_type": "code",
      "source": [
        "\n",
        "def predict_user_input(month, budget, expenses_dict, product_name, product_price, top_n_suggestions=5):\n",
        "    # Build input row\n",
        "    row = {}\n",
        "    row[budget_col] = budget\n",
        "\n",
        "    # Fill in expense values\n",
        "    for c in expense_cols:\n",
        "        row[c] = float(expenses_dict.get(c, 0))\n",
        "\n",
        "    # Compute initial total\n",
        "    row[\"initial_total\"] = sum(float(expenses_dict.get(c, 0)) for c in expense_cols)\n",
        "\n",
        "    row[product_price_col] = product_price\n",
        "    row[month_col] = month\n",
        "\n",
        "    # Ensure correct feature order\n",
        "    input_df = pd.DataFrame([row], columns=X.columns)\n",
        "\n",
        "    # Make prediction\n",
        "    pred_enc = pipeline.predict(input_df)[0]\n",
        "    pred_label = label_encoder.inverse_transform([pred_enc])[0]\n",
        "\n",
        "    # Balance calculation\n",
        "    balance = budget - row[\"initial_total\"]\n",
        "\n",
        "    # Suggestions\n",
        "    suggestions = []\n",
        "    if str(pred_label).strip().lower() not in [\"yes\", \"y\", \"true\", \"1\"]:\n",
        "        cand = df[df[product_price_col] <= balance]\n",
        "        if not cand.empty:\n",
        "            suggestions = cand.sort_values(by=product_price_col, ascending=False).head(top_n_suggestions)\n",
        "\n",
        "    return {\n",
        "        \"initial_total\": row[\"initial_total\"],\n",
        "        \"balance\": balance,\n",
        "        \"prediction\": str(pred_label),\n",
        "        \"suggestions\": suggestions\n",
        "    }\n"
      ],
      "metadata": {
        "id": "v2f5Ftioet2b"
      },
      "execution_count": 68,
      "outputs": []
    },
    {
      "cell_type": "markdown",
      "source": [
        "Test"
      ],
      "metadata": {
        "id": "-uYou36_fjEg"
      }
    },
    {
      "cell_type": "code",
      "source": [
        "month = input(\"Enter Month (e.g., January): \")\n",
        "budget = float(input(\"Enter your total budget: \"))\n",
        "\n",
        "expenses_dict = {}\n",
        "for col in expense_cols:\n",
        "    val = input(f\"Enter expense for {col} (leave blank for 0): \")\n",
        "    expenses_dict[col] = float(val) if val.strip() != \"\" else 0.0\n",
        "\n",
        "product_name = input(\"Enter the product name you want to buy: \")\n",
        "product_price = float(input(\"Enter approximate price of the product: \"))\n",
        "\n",
        "2\n",
        "result = predict_user_input(month, budget, expenses_dict, product_name, product_price, top_n_suggestions=5)\n",
        "\n",
        "# Show results\n",
        "print(\"\\n===== RESULT =====\")\n",
        "print(f\"Initial Expense Total: {result['initial_total']}\")\n",
        "print(f\"Remaining Balance: {result['balance']}\")\n",
        "print(f\"Prediction (Can Buy?): {result['prediction']}\")\n",
        "\n",
        "if result['prediction'].strip().lower() == \"no\":\n",
        "    print(\"\\nSuggested Products within your balance:\")\n",
        "    if result['suggestions'] is not None and not result['suggestions'].empty:\n",
        "        print(result['suggestions'][[product_price_col, month_col]].to_string(index=False))\n",
        "    else:\n",
        "        print(\"No alternative products found within balance.\")"
      ],
      "metadata": {
        "colab": {
          "base_uri": "https://localhost:8080/"
        },
        "id": "uKv0L5Dae5bh",
        "outputId": "e863fccc-7d84-4aa1-a432-c6b90172e0f9"
      },
      "execution_count": 69,
      "outputs": [
        {
          "output_type": "stream",
          "name": "stdout",
          "text": [
            "Enter Month (e.g., January): January\n",
            "Enter your total budget: 20000\n",
            "Enter expense for Grocery_Ini1 (leave blank for 0): 2000\n",
            "Enter expense for Rent_Ini2 (leave blank for 0): 2500\n",
            "Enter expense for Transport_Ini3 (leave blank for 0): 1350\n",
            "Enter the product name you want to buy: Bed\n",
            "Enter approximate price of the product: 35000\n",
            "\n",
            "===== RESULT =====\n",
            "Initial Expense Total: 5850.0\n",
            "Remaining Balance: 14150.0\n",
            "Prediction (Can Buy?): No,You have not enough Balance.\n"
          ]
        }
      ]
    },
    {
      "cell_type": "code",
      "source": [],
      "metadata": {
        "id": "XKoBRW9af5y_"
      },
      "execution_count": 67,
      "outputs": []
    }
  ]
}